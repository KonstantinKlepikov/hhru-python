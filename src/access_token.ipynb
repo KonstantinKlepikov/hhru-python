{
 "cells": [
  {
   "cell_type": "code",
   "execution_count": 5,
   "metadata": {},
   "outputs": [],
   "source": [
    "import requests\n",
    "from dotenv import dotenv_values\n",
    "\n",
    "config = dotenv_values(\"../.env\")"
   ]
  },
  {
   "cell_type": "code",
   "execution_count": 8,
   "metadata": {},
   "outputs": [],
   "source": [
    "token = requests.post(\n",
    "    'https://hh.ru/oauth/token',\n",
    "    params={\n",
    "        'grant_type': 'client_credentials',\n",
    "        'client_id': config['CLIENT_ID'],\n",
    "        'client_secret': config['CLIENT_SECRET'],\n",
    "            }\n",
    "        )"
   ]
  },
  {
   "cell_type": "code",
   "execution_count": 12,
   "metadata": {},
   "outputs": [],
   "source": [
    "with open(\"../data/secret.txt\", \"w\") as fp:   # Unpickling\n",
    "    fp.write(token.json()['access_token'])"
   ]
  }
 ],
 "metadata": {
  "kernelspec": {
   "display_name": "venv",
   "language": "python",
   "name": "python3"
  },
  "language_info": {
   "codemirror_mode": {
    "name": "ipython",
    "version": 3
   },
   "file_extension": ".py",
   "mimetype": "text/x-python",
   "name": "python",
   "nbconvert_exporter": "python",
   "pygments_lexer": "ipython3",
   "version": "3.10.6"
  },
  "orig_nbformat": 4
 },
 "nbformat": 4,
 "nbformat_minor": 2
}
